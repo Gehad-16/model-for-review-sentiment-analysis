{
  "nbformat": 4,
  "nbformat_minor": 0,
  "metadata": {
    "colab": {
      "name": "NLP_Assignment_4_20180354_20180080_20180104_ sentiment analysis_Final.ipynb",
      "provenance": [],
      "collapsed_sections": []
    },
    "kernelspec": {
      "name": "python3",
      "display_name": "Python 3"
    },
    "language_info": {
      "name": "python"
    }
  },
  "cells": [
    {
      "cell_type": "markdown",
      "source": [
        "### The reviews files only have been uploaded with their domain names"
      ],
      "metadata": {
        "id": "bdAy7OxAV5B6"
      }
    },
    {
      "cell_type": "code",
      "source": [
        "import matplotlib.pyplot as plt\n",
        "import seaborn as sn"
      ],
      "metadata": {
        "id": "IEtYpmeGSlti"
      },
      "execution_count": null,
      "outputs": []
    },
    {
      "cell_type": "code",
      "execution_count": null,
      "metadata": {
        "id": "xXtBrAzaqihJ"
      },
      "outputs": [],
      "source": [
        "import nltk\n",
        "import os\n",
        "import re\n",
        "import sklearn\n",
        "import pandas as pd\n",
        "import numpy as np"
      ]
    },
    {
      "cell_type": "code",
      "source": [
        "from sklearn.linear_model import LogisticRegression\n",
        "from sklearn import svm\n",
        "from sklearn.naive_bayes import BernoulliNB,MultinomialNB\n",
        "from sklearn.neighbors import KNeighborsClassifier\n",
        "from sklearn.tree import DecisionTreeClassifier\n",
        "from sklearn.metrics import f1_score,confusion_matrix"
      ],
      "metadata": {
        "id": "p63bgN1zrFtH"
      },
      "execution_count": null,
      "outputs": []
    },
    {
      "cell_type": "code",
      "source": [
        "from sklearn.feature_selection import chi2,SelectKBest\n",
        "from sklearn.ensemble import BaggingClassifier,AdaBoostClassifier\n",
        "nltk.download('punkt')\n",
        "nltk.download('stopwords')"
      ],
      "metadata": {
        "colab": {
          "base_uri": "https://localhost:8080/"
        },
        "id": "Xyl1EAlOEhK7",
        "outputId": "aade5a3e-5bfa-4345-90b0-c4eaa16bb4f1"
      },
      "execution_count": null,
      "outputs": [
        {
          "output_type": "stream",
          "name": "stdout",
          "text": [
            "[nltk_data] Downloading package punkt to /root/nltk_data...\n",
            "[nltk_data]   Package punkt is already up-to-date!\n",
            "[nltk_data] Downloading package stopwords to /root/nltk_data...\n",
            "[nltk_data]   Package stopwords is already up-to-date!\n"
          ]
        },
        {
          "output_type": "execute_result",
          "data": {
            "text/plain": [
              "True"
            ]
          },
          "metadata": {},
          "execution_count": 202
        }
      ]
    },
    {
      "cell_type": "code",
      "source": [
        "from nltk.tokenize import word_tokenize\n",
        "from nltk.corpus import stopwords"
      ],
      "metadata": {
        "id": "d1-_jlrFElCw"
      },
      "execution_count": null,
      "outputs": []
    },
    {
      "cell_type": "markdown",
      "source": [
        "# Data Preprocessing"
      ],
      "metadata": {
        "id": "HYKhES0cMfSZ"
      }
    },
    {
      "cell_type": "code",
      "source": [
        "def preprocess(sentence):\n",
        "    sentence = re.sub('[^\\w\\s]',' ',str(sentence))\n",
        "    sentence = re.sub('[^a-zA-Z]',' ',str(sentence))\n",
        "    new_sent = \" \"\n",
        "    tok = word_tokenize(sentence)\n",
        "    for i in range(len(tok)):\n",
        "        if tok[i].lower() not in stopword:\n",
        "            new_sent+=tok[i].lower()+\" \"\n",
        "    return new_sent"
      ],
      "metadata": {
        "id": "KXAiRIt4FFij"
      },
      "execution_count": null,
      "outputs": []
    },
    {
      "cell_type": "code",
      "source": [
        "stopword = stopwords.words('english')"
      ],
      "metadata": {
        "id": "EoVA6netFB8Z"
      },
      "execution_count": null,
      "outputs": []
    },
    {
      "cell_type": "code",
      "source": [
        "import os\n",
        "import re\n",
        "import numpy as np \n",
        "import pandas as pd \n",
        "\n",
        "\n",
        "def extract_files(pos_file,neg_file,num):\n",
        "\t\n",
        "\twith open(pos_file,'r',encoding='utf-8') as f:\n",
        "\t\tpos = f.readlines()\n",
        "\twith open(neg_file,'r',encoding='utf-8') as f:\n",
        "\t\tneg = f.readlines()\n",
        "\n",
        "\n",
        "\tcorpus_pos = []\n",
        "\tflag = False\n",
        "\n",
        "\tfor i in range(len(pos)):\n",
        "\t\tif(pos[i]==\"<review_text>\\n\"):\n",
        "\t\t\tflag = True\n",
        "\t\t\tnew_str = \" \"\n",
        "\t\t\tcontinue\n",
        "\t\telif(pos[i]==\"</review_text>\\n\"):\n",
        "\t\t\tflag = False\n",
        "\t\t\tcorpus_pos.append(new_str)\n",
        "\t\t\tcontinue\n",
        "\t\tif(flag):\n",
        "\t\t\tif(len(pos[i])>1):\n",
        "\t\t\t\tsent = pos[i]\n",
        "\t\t\t\tsent = sent[0:len(sent)-1]\n",
        "\t\t\t\tif(sent[0]=='\\t'):\n",
        "\t\t\t\t\tsent = sent[1:len(sent)-1]\n",
        "\t\t\tnew_str+=sent  \n",
        "\t\n",
        "\tcorpus_neg = []\n",
        "\tflag = False\n",
        "\n",
        "\tfor i in range(len(neg)):\n",
        "\t\tif(neg[i]==\"<review_text>\\n\"):\n",
        "\t\t\tflag = True\n",
        "\t\t\tnew_str = \" \"\n",
        "\t\t\tcontinue\n",
        "\t\telif(neg[i]==\"</review_text>\\n\"):\n",
        "\t\t\tflag = False\n",
        "\t\t\tcorpus_neg.append(new_str)\n",
        "\t\t\tcontinue\n",
        "\t\tif(flag):\n",
        "\t\t\tif(len(neg[i])>1):\n",
        "\t\t\t\tsent = neg[i]\n",
        "\t\t\t\tsent = sent[0:len(sent)-1]\n",
        "\t\t\t\tif(sent[0]=='\\t'):\n",
        "\t\t\t\t\tsent = sent[1:len(sent)-1]\n",
        "\t\t\tnew_str+=sent\n",
        "\n",
        "\n",
        "\n",
        "\tdir_to_write =[\"Books\",\"Dvd\",\"Electronics\",\"Kitchen\"]\n",
        "\n",
        "\tPOS_file = dir_to_write[num]+\"_pos.txt\"\n",
        "\tNEG_file = dir_to_write[num]+\"_neg.txt\"\n",
        "\t\n",
        "\twith open(POS_file,'w',encoding='utf-8') as f:\n",
        "\t\tfor i in range(len(corpus_pos)):\n",
        "\t\t\tf.write(corpus_pos[i])\n",
        "\t\t\tf.write(\"\\n\")\n",
        "\n",
        "\twith open(NEG_file,'w',encoding='utf-8') as f:\n",
        "\t\tfor i in range(len(corpus_neg)):\n",
        "\t\t\tf.write(corpus_neg[i])\n",
        "\t\t\tf.write(\"\\n\")\n",
        "\n"
      ],
      "metadata": {
        "id": "h7p1nlq9L_4O"
      },
      "execution_count": null,
      "outputs": []
    },
    {
      "cell_type": "markdown",
      "source": [
        "# Book"
      ],
      "metadata": {
        "id": "izZy1ksTLI_5"
      }
    },
    {
      "cell_type": "code",
      "source": [
        "extract_files(\"/content/book_positive.review\",\"/content/book_negative.review\",0)"
      ],
      "metadata": {
        "id": "nMrI90wi6hVF"
      },
      "execution_count": null,
      "outputs": []
    },
    {
      "cell_type": "code",
      "source": [
        "with open('/content/Books_neg.txt','r',encoding='utf-8') as f:\n",
        "    book_train_negative = f.readlines()"
      ],
      "metadata": {
        "id": "sJiLwQkP8WiS"
      },
      "execution_count": null,
      "outputs": []
    },
    {
      "cell_type": "code",
      "source": [
        "book_x_train_negative = []\n",
        "\n",
        "for i in range(len(book_train_negative)):\n",
        "    sent = book_train_negative[i]\n",
        "    sent = sent[0:len(sent)-1]\n",
        "    book_x_train_negative.append(preprocess(sent))\n",
        "print(len(book_x_train_negative))\n",
        "\n",
        "book_y_train_negative = np.zeros(len(book_x_train_negative))\n",
        "print(len(book_y_train_negative))\n"
      ],
      "metadata": {
        "colab": {
          "base_uri": "https://localhost:8080/"
        },
        "id": "PEo5M5ko8gLI",
        "outputId": "4bd345bd-d3a3-4680-8bc4-34296f07eca6"
      },
      "execution_count": null,
      "outputs": [
        {
          "output_type": "stream",
          "name": "stdout",
          "text": [
            "1000\n",
            "1000\n"
          ]
        }
      ]
    },
    {
      "cell_type": "code",
      "source": [
        "with open('/content/Books_pos.txt','r',encoding='utf-8') as f:\n",
        "    book_train_positive = f.readlines()"
      ],
      "metadata": {
        "id": "9GUocb60LGjs"
      },
      "execution_count": null,
      "outputs": []
    },
    {
      "cell_type": "code",
      "source": [
        "book_x_train_positive = []\n",
        "\n",
        "for i in range(len(book_train_positive)):\n",
        "    sent = book_train_positive[i]\n",
        "    sent = sent[0:len(sent)-1]\n",
        "    book_x_train_positive.append(preprocess(sent))\n",
        "print(len(book_x_train_positive))\n",
        "\n",
        "book_y_train_positive = np.ones(len(book_x_train_positive))\n",
        "print(len(book_y_train_positive))"
      ],
      "metadata": {
        "colab": {
          "base_uri": "https://localhost:8080/"
        },
        "id": "C5WKlWSyFHZS",
        "outputId": "b911d568-70e3-4ff9-b6b5-13ed5b826904"
      },
      "execution_count": null,
      "outputs": [
        {
          "output_type": "stream",
          "name": "stdout",
          "text": [
            "1000\n",
            "1000\n"
          ]
        }
      ]
    },
    {
      "cell_type": "markdown",
      "source": [
        "# DVD"
      ],
      "metadata": {
        "id": "fkTuus65QIX6"
      }
    },
    {
      "cell_type": "code",
      "source": [
        "extract_files(\"/content/DVD_positive.review\",\"/content/DVD_negative.review\",1)"
      ],
      "metadata": {
        "id": "AXcvyrVh89v5"
      },
      "execution_count": null,
      "outputs": []
    },
    {
      "cell_type": "code",
      "source": [
        "with open('/content/Dvd_neg.txt','r',encoding='utf-8') as f:\n",
        "    DVD_train_negative = f.readlines()"
      ],
      "metadata": {
        "id": "_JCtYVVMQVDz"
      },
      "execution_count": null,
      "outputs": []
    },
    {
      "cell_type": "code",
      "source": [
        "DVD_x_train_negative = []\n",
        "\n",
        "\n",
        "for i in range(len(DVD_train_negative)):\n",
        "    sent = DVD_train_negative[i]\n",
        "    sent = sent[0:len(sent)-1]\n",
        "    DVD_x_train_negative.append(preprocess(sent))\n",
        "print(len(DVD_x_train_negative))\n",
        "\n",
        "DVD_y_train_negative = np.zeros(len(DVD_x_train_negative))\n",
        "print(len(DVD_y_train_negative))\n",
        "\n"
      ],
      "metadata": {
        "colab": {
          "base_uri": "https://localhost:8080/"
        },
        "id": "FwdQb4KhWdYx",
        "outputId": "7d2e9655-aeb0-4e7f-f439-d5f082f5bbbc"
      },
      "execution_count": null,
      "outputs": [
        {
          "output_type": "stream",
          "name": "stdout",
          "text": [
            "1000\n",
            "1000\n"
          ]
        }
      ]
    },
    {
      "cell_type": "code",
      "source": [
        "with open('/content/Dvd_pos.txt','r',encoding='utf-8') as f:\n",
        "    DVD_train_positive = f.readlines()"
      ],
      "metadata": {
        "id": "a69dQmFWWjR2"
      },
      "execution_count": null,
      "outputs": []
    },
    {
      "cell_type": "code",
      "source": [
        "DVD_x_train_positive = []\n",
        "\n",
        "for i in range(len(DVD_train_positive)):\n",
        "    sent = DVD_train_positive[i]\n",
        "    sent = sent[0:len(sent)-1]\n",
        "    DVD_x_train_positive.append(preprocess(sent))\n",
        "print(len(DVD_x_train_positive))\n",
        "\n",
        "DVD_y_train_positive = np.ones(len(DVD_x_train_positive))\n",
        "print(len(DVD_y_train_positive))\n"
      ],
      "metadata": {
        "colab": {
          "base_uri": "https://localhost:8080/"
        },
        "id": "jrHIHn9CXBAF",
        "outputId": "b636528e-0c60-43be-a122-11e7ce7958be"
      },
      "execution_count": null,
      "outputs": [
        {
          "output_type": "stream",
          "name": "stdout",
          "text": [
            "1000\n",
            "1000\n"
          ]
        }
      ]
    },
    {
      "cell_type": "markdown",
      "source": [
        "# Electronics"
      ],
      "metadata": {
        "id": "eGdebmmpQPFe"
      }
    },
    {
      "cell_type": "code",
      "source": [
        "extract_files(\"/content/electronics_positive.review\",\"/content/electronics_negative.review\",2)"
      ],
      "metadata": {
        "id": "WH1zwEaD9zUH"
      },
      "execution_count": null,
      "outputs": []
    },
    {
      "cell_type": "code",
      "source": [
        "with open('/content/Electronics_neg.txt','r',encoding='utf-8') as f:\n",
        "    Electronics_train_negative = f.readlines()"
      ],
      "metadata": {
        "id": "FLvMs-uVVk-b"
      },
      "execution_count": null,
      "outputs": []
    },
    {
      "cell_type": "code",
      "source": [
        "Electronics_x_train_negative = []\n",
        "\n",
        "\n",
        "for i in range(len(Electronics_train_negative)):\n",
        "    sent = Electronics_train_negative[i]\n",
        "    sent = sent[0:len(sent)-1]\n",
        "    Electronics_x_train_negative.append(preprocess(sent))\n",
        "print(len(Electronics_x_train_negative))\n",
        "\n",
        "Electronics_y_train_negative = np.zeros(len(Electronics_x_train_negative))\n",
        "print(len(Electronics_y_train_negative))"
      ],
      "metadata": {
        "colab": {
          "base_uri": "https://localhost:8080/"
        },
        "id": "D0uuKXaEkN1-",
        "outputId": "e93d2ae6-1e85-409d-d056-506d92fb326f"
      },
      "execution_count": null,
      "outputs": [
        {
          "output_type": "stream",
          "name": "stdout",
          "text": [
            "1000\n",
            "1000\n"
          ]
        }
      ]
    },
    {
      "cell_type": "code",
      "source": [
        "with open('/content/Electronics_pos.txt','r',encoding='utf-8') as f:\n",
        "    Electronics_train_positive = f.readlines()"
      ],
      "metadata": {
        "id": "PJqhNg_JkP_6"
      },
      "execution_count": null,
      "outputs": []
    },
    {
      "cell_type": "code",
      "source": [
        "Electronics_x_train_positive = []\n",
        "\n",
        "\n",
        "for i in range(len(Electronics_train_positive)):\n",
        "    sent = Electronics_train_positive[i]\n",
        "    sent = sent[0:len(sent)-1]\n",
        "    Electronics_x_train_positive.append(preprocess(sent))\n",
        "print(len(Electronics_x_train_positive))\n",
        "\n",
        "Electronics_y_train_positive = np.ones(len(Electronics_x_train_positive))\n",
        "print(len(Electronics_y_train_positive))"
      ],
      "metadata": {
        "colab": {
          "base_uri": "https://localhost:8080/"
        },
        "id": "fkoA82KHkaWh",
        "outputId": "6e932ddb-c3bb-4ea2-8ee8-07c2dabf8d40"
      },
      "execution_count": null,
      "outputs": [
        {
          "output_type": "stream",
          "name": "stdout",
          "text": [
            "1000\n",
            "1000\n"
          ]
        }
      ]
    },
    {
      "cell_type": "code",
      "source": [
        "\n",
        "Data_x=book_x_train_positive+book_x_train_negative+DVD_x_train_positive+DVD_x_train_negative+Electronics_x_train_positive+Electronics_x_train_negative\n",
        "Data_y=list(book_y_train_positive)+list(book_y_train_negative)+list(DVD_y_train_positive)+list(DVD_y_train_negative)+ list(Electronics_y_train_positive)+list(Electronics_y_train_negative)"
      ],
      "metadata": {
        "id": "DE9Gkr-xE3KX"
      },
      "execution_count": null,
      "outputs": []
    },
    {
      "cell_type": "code",
      "source": [
        "len(Data_x)"
      ],
      "metadata": {
        "colab": {
          "base_uri": "https://localhost:8080/"
        },
        "id": "hYsHHI0fH0rt",
        "outputId": "0852fdc5-551d-4867-cff0-ba413c79618f"
      },
      "execution_count": null,
      "outputs": [
        {
          "output_type": "execute_result",
          "data": {
            "text/plain": [
              "6000"
            ]
          },
          "metadata": {},
          "execution_count": 223
        }
      ]
    },
    {
      "cell_type": "code",
      "source": [
        "len(Data_y)"
      ],
      "metadata": {
        "colab": {
          "base_uri": "https://localhost:8080/"
        },
        "id": "lyr5fPycJyt1",
        "outputId": "4b236bb0-6896-46c9-bb95-0b9843dba2d9"
      },
      "execution_count": null,
      "outputs": [
        {
          "output_type": "execute_result",
          "data": {
            "text/plain": [
              "6000"
            ]
          },
          "metadata": {},
          "execution_count": 224
        }
      ]
    },
    {
      "cell_type": "code",
      "source": [
        "# import pandas as pd\n",
        "import pandas as pd\n",
        "\n",
        "\n",
        "Data = pd.DataFrame(list(zip(Data_x, Data_y)),\n",
        "               columns =['Data', 'Label'])\n",
        "Data"
      ],
      "metadata": {
        "colab": {
          "base_uri": "https://localhost:8080/",
          "height": 424
        },
        "id": "s7jtFjs0TIeN",
        "outputId": "247e409d-e9e2-4bd3-ba89-8b359fafcd9c"
      },
      "execution_count": null,
      "outputs": [
        {
          "output_type": "execute_result",
          "data": {
            "text/plain": [
              "                                                   Data  Label\n",
              "0      sphere michael crichton excellant novel certa...    1.0\n",
              "1      dr oz accomplished heart surgeon field cardia...    1.0\n",
              "2      gorgeous artwork comic books contains extraor...    1.0\n",
              "3      book lovers robicheaux demons seem put rest r...    1.0\n",
              "4      going short sweet review many others commente...    1.0\n",
              "...                                                 ...    ...\n",
              "5995   really excited affordable speakers reading ra...    0.0\n",
              "5996   speakers sound great sometimes want crank off...    0.0\n",
              "5997     agree prior reviewers get retract longer uses     0.0\n",
              "5998   bought several came fancy blister others cous...    0.0\n",
              "5999   bought easy transfer pictures digital camera ...    0.0\n",
              "\n",
              "[6000 rows x 2 columns]"
            ],
            "text/html": [
              "\n",
              "  <div id=\"df-d18f67f2-7397-43ce-a36a-08e71fda7b28\">\n",
              "    <div class=\"colab-df-container\">\n",
              "      <div>\n",
              "<style scoped>\n",
              "    .dataframe tbody tr th:only-of-type {\n",
              "        vertical-align: middle;\n",
              "    }\n",
              "\n",
              "    .dataframe tbody tr th {\n",
              "        vertical-align: top;\n",
              "    }\n",
              "\n",
              "    .dataframe thead th {\n",
              "        text-align: right;\n",
              "    }\n",
              "</style>\n",
              "<table border=\"1\" class=\"dataframe\">\n",
              "  <thead>\n",
              "    <tr style=\"text-align: right;\">\n",
              "      <th></th>\n",
              "      <th>Data</th>\n",
              "      <th>Label</th>\n",
              "    </tr>\n",
              "  </thead>\n",
              "  <tbody>\n",
              "    <tr>\n",
              "      <th>0</th>\n",
              "      <td>sphere michael crichton excellant novel certa...</td>\n",
              "      <td>1.0</td>\n",
              "    </tr>\n",
              "    <tr>\n",
              "      <th>1</th>\n",
              "      <td>dr oz accomplished heart surgeon field cardia...</td>\n",
              "      <td>1.0</td>\n",
              "    </tr>\n",
              "    <tr>\n",
              "      <th>2</th>\n",
              "      <td>gorgeous artwork comic books contains extraor...</td>\n",
              "      <td>1.0</td>\n",
              "    </tr>\n",
              "    <tr>\n",
              "      <th>3</th>\n",
              "      <td>book lovers robicheaux demons seem put rest r...</td>\n",
              "      <td>1.0</td>\n",
              "    </tr>\n",
              "    <tr>\n",
              "      <th>4</th>\n",
              "      <td>going short sweet review many others commente...</td>\n",
              "      <td>1.0</td>\n",
              "    </tr>\n",
              "    <tr>\n",
              "      <th>...</th>\n",
              "      <td>...</td>\n",
              "      <td>...</td>\n",
              "    </tr>\n",
              "    <tr>\n",
              "      <th>5995</th>\n",
              "      <td>really excited affordable speakers reading ra...</td>\n",
              "      <td>0.0</td>\n",
              "    </tr>\n",
              "    <tr>\n",
              "      <th>5996</th>\n",
              "      <td>speakers sound great sometimes want crank off...</td>\n",
              "      <td>0.0</td>\n",
              "    </tr>\n",
              "    <tr>\n",
              "      <th>5997</th>\n",
              "      <td>agree prior reviewers get retract longer uses</td>\n",
              "      <td>0.0</td>\n",
              "    </tr>\n",
              "    <tr>\n",
              "      <th>5998</th>\n",
              "      <td>bought several came fancy blister others cous...</td>\n",
              "      <td>0.0</td>\n",
              "    </tr>\n",
              "    <tr>\n",
              "      <th>5999</th>\n",
              "      <td>bought easy transfer pictures digital camera ...</td>\n",
              "      <td>0.0</td>\n",
              "    </tr>\n",
              "  </tbody>\n",
              "</table>\n",
              "<p>6000 rows × 2 columns</p>\n",
              "</div>\n",
              "      <button class=\"colab-df-convert\" onclick=\"convertToInteractive('df-d18f67f2-7397-43ce-a36a-08e71fda7b28')\"\n",
              "              title=\"Convert this dataframe to an interactive table.\"\n",
              "              style=\"display:none;\">\n",
              "        \n",
              "  <svg xmlns=\"http://www.w3.org/2000/svg\" height=\"24px\"viewBox=\"0 0 24 24\"\n",
              "       width=\"24px\">\n",
              "    <path d=\"M0 0h24v24H0V0z\" fill=\"none\"/>\n",
              "    <path d=\"M18.56 5.44l.94 2.06.94-2.06 2.06-.94-2.06-.94-.94-2.06-.94 2.06-2.06.94zm-11 1L8.5 8.5l.94-2.06 2.06-.94-2.06-.94L8.5 2.5l-.94 2.06-2.06.94zm10 10l.94 2.06.94-2.06 2.06-.94-2.06-.94-.94-2.06-.94 2.06-2.06.94z\"/><path d=\"M17.41 7.96l-1.37-1.37c-.4-.4-.92-.59-1.43-.59-.52 0-1.04.2-1.43.59L10.3 9.45l-7.72 7.72c-.78.78-.78 2.05 0 2.83L4 21.41c.39.39.9.59 1.41.59.51 0 1.02-.2 1.41-.59l7.78-7.78 2.81-2.81c.8-.78.8-2.07 0-2.86zM5.41 20L4 18.59l7.72-7.72 1.47 1.35L5.41 20z\"/>\n",
              "  </svg>\n",
              "      </button>\n",
              "      \n",
              "  <style>\n",
              "    .colab-df-container {\n",
              "      display:flex;\n",
              "      flex-wrap:wrap;\n",
              "      gap: 12px;\n",
              "    }\n",
              "\n",
              "    .colab-df-convert {\n",
              "      background-color: #E8F0FE;\n",
              "      border: none;\n",
              "      border-radius: 50%;\n",
              "      cursor: pointer;\n",
              "      display: none;\n",
              "      fill: #1967D2;\n",
              "      height: 32px;\n",
              "      padding: 0 0 0 0;\n",
              "      width: 32px;\n",
              "    }\n",
              "\n",
              "    .colab-df-convert:hover {\n",
              "      background-color: #E2EBFA;\n",
              "      box-shadow: 0px 1px 2px rgba(60, 64, 67, 0.3), 0px 1px 3px 1px rgba(60, 64, 67, 0.15);\n",
              "      fill: #174EA6;\n",
              "    }\n",
              "\n",
              "    [theme=dark] .colab-df-convert {\n",
              "      background-color: #3B4455;\n",
              "      fill: #D2E3FC;\n",
              "    }\n",
              "\n",
              "    [theme=dark] .colab-df-convert:hover {\n",
              "      background-color: #434B5C;\n",
              "      box-shadow: 0px 1px 3px 1px rgba(0, 0, 0, 0.15);\n",
              "      filter: drop-shadow(0px 1px 2px rgba(0, 0, 0, 0.3));\n",
              "      fill: #FFFFFF;\n",
              "    }\n",
              "  </style>\n",
              "\n",
              "      <script>\n",
              "        const buttonEl =\n",
              "          document.querySelector('#df-d18f67f2-7397-43ce-a36a-08e71fda7b28 button.colab-df-convert');\n",
              "        buttonEl.style.display =\n",
              "          google.colab.kernel.accessAllowed ? 'block' : 'none';\n",
              "\n",
              "        async function convertToInteractive(key) {\n",
              "          const element = document.querySelector('#df-d18f67f2-7397-43ce-a36a-08e71fda7b28');\n",
              "          const dataTable =\n",
              "            await google.colab.kernel.invokeFunction('convertToInteractive',\n",
              "                                                     [key], {});\n",
              "          if (!dataTable) return;\n",
              "\n",
              "          const docLinkHtml = 'Like what you see? Visit the ' +\n",
              "            '<a target=\"_blank\" href=https://colab.research.google.com/notebooks/data_table.ipynb>data table notebook</a>'\n",
              "            + ' to learn more about interactive tables.';\n",
              "          element.innerHTML = '';\n",
              "          dataTable['output_type'] = 'display_data';\n",
              "          await google.colab.output.renderOutput(dataTable, element);\n",
              "          const docLink = document.createElement('div');\n",
              "          docLink.innerHTML = docLinkHtml;\n",
              "          element.appendChild(docLink);\n",
              "        }\n",
              "      </script>\n",
              "    </div>\n",
              "  </div>\n",
              "  "
            ]
          },
          "metadata": {},
          "execution_count": 257
        }
      ]
    },
    {
      "cell_type": "code",
      "source": [
        "shuffled_data = Data.sample(frac=1)"
      ],
      "metadata": {
        "id": "9quKxN8EVVgG"
      },
      "execution_count": null,
      "outputs": []
    },
    {
      "cell_type": "code",
      "source": [
        "shuffled_data"
      ],
      "metadata": {
        "colab": {
          "base_uri": "https://localhost:8080/",
          "height": 2215
        },
        "id": "Bh4bkgyNVapj",
        "outputId": "325a446e-804b-4086-95dd-813995ae2d0d"
      },
      "execution_count": null,
      "outputs": [
        {
          "output_type": "execute_result",
          "data": {
            "text/plain": [
              "                                                   Data  Label\n",
              "868    comments cev translation rather particular ed...    1.0\n",
              "3069   big fan frank miller work loved reading graph...    0.0\n",
              "4917   picked pairs amazon applied ca nylon tape fix...    1.0\n",
              "49     reading chapter day yr great motivator day ah...    1.0\n",
              "1812   lets say reading book mafia written john gott...    0.0\n",
              "...                                                 ...    ...\n",
              "5628   received ipod quickly plus horrible would dow...    0.0\n",
              "4945   bought four far appear work well work compact...    1.0\n",
              "1856   book written empire future really sure asimov...    0.0\n",
              "5821   cable thing believe hype monster overpriced p...    0.0\n",
              "1381   certified information systems security profes...    0.0\n",
              "\n",
              "[6000 rows x 2 columns]"
            ],
            "text/html": [
              "\n",
              "  <div id=\"df-5286feaf-02ab-40b8-88a0-63db6305f063\">\n",
              "    <div class=\"colab-df-container\">\n",
              "      <div>\n",
              "<style scoped>\n",
              "    .dataframe tbody tr th:only-of-type {\n",
              "        vertical-align: middle;\n",
              "    }\n",
              "\n",
              "    .dataframe tbody tr th {\n",
              "        vertical-align: top;\n",
              "    }\n",
              "\n",
              "    .dataframe thead th {\n",
              "        text-align: right;\n",
              "    }\n",
              "</style>\n",
              "<table border=\"1\" class=\"dataframe\">\n",
              "  <thead>\n",
              "    <tr style=\"text-align: right;\">\n",
              "      <th></th>\n",
              "      <th>Data</th>\n",
              "      <th>Label</th>\n",
              "    </tr>\n",
              "  </thead>\n",
              "  <tbody>\n",
              "    <tr>\n",
              "      <th>868</th>\n",
              "      <td>comments cev translation rather particular ed...</td>\n",
              "      <td>1.0</td>\n",
              "    </tr>\n",
              "    <tr>\n",
              "      <th>3069</th>\n",
              "      <td>big fan frank miller work loved reading graph...</td>\n",
              "      <td>0.0</td>\n",
              "    </tr>\n",
              "    <tr>\n",
              "      <th>4917</th>\n",
              "      <td>picked pairs amazon applied ca nylon tape fix...</td>\n",
              "      <td>1.0</td>\n",
              "    </tr>\n",
              "    <tr>\n",
              "      <th>49</th>\n",
              "      <td>reading chapter day yr great motivator day ah...</td>\n",
              "      <td>1.0</td>\n",
              "    </tr>\n",
              "    <tr>\n",
              "      <th>1812</th>\n",
              "      <td>lets say reading book mafia written john gott...</td>\n",
              "      <td>0.0</td>\n",
              "    </tr>\n",
              "    <tr>\n",
              "      <th>...</th>\n",
              "      <td>...</td>\n",
              "      <td>...</td>\n",
              "    </tr>\n",
              "    <tr>\n",
              "      <th>5628</th>\n",
              "      <td>received ipod quickly plus horrible would dow...</td>\n",
              "      <td>0.0</td>\n",
              "    </tr>\n",
              "    <tr>\n",
              "      <th>4945</th>\n",
              "      <td>bought four far appear work well work compact...</td>\n",
              "      <td>1.0</td>\n",
              "    </tr>\n",
              "    <tr>\n",
              "      <th>1856</th>\n",
              "      <td>book written empire future really sure asimov...</td>\n",
              "      <td>0.0</td>\n",
              "    </tr>\n",
              "    <tr>\n",
              "      <th>5821</th>\n",
              "      <td>cable thing believe hype monster overpriced p...</td>\n",
              "      <td>0.0</td>\n",
              "    </tr>\n",
              "    <tr>\n",
              "      <th>1381</th>\n",
              "      <td>certified information systems security profes...</td>\n",
              "      <td>0.0</td>\n",
              "    </tr>\n",
              "  </tbody>\n",
              "</table>\n",
              "<p>6000 rows × 2 columns</p>\n",
              "</div>\n",
              "      <button class=\"colab-df-convert\" onclick=\"convertToInteractive('df-5286feaf-02ab-40b8-88a0-63db6305f063')\"\n",
              "              title=\"Convert this dataframe to an interactive table.\"\n",
              "              style=\"display:none;\">\n",
              "        \n",
              "  <svg xmlns=\"http://www.w3.org/2000/svg\" height=\"24px\"viewBox=\"0 0 24 24\"\n",
              "       width=\"24px\">\n",
              "    <path d=\"M0 0h24v24H0V0z\" fill=\"none\"/>\n",
              "    <path d=\"M18.56 5.44l.94 2.06.94-2.06 2.06-.94-2.06-.94-.94-2.06-.94 2.06-2.06.94zm-11 1L8.5 8.5l.94-2.06 2.06-.94-2.06-.94L8.5 2.5l-.94 2.06-2.06.94zm10 10l.94 2.06.94-2.06 2.06-.94-2.06-.94-.94-2.06-.94 2.06-2.06.94z\"/><path d=\"M17.41 7.96l-1.37-1.37c-.4-.4-.92-.59-1.43-.59-.52 0-1.04.2-1.43.59L10.3 9.45l-7.72 7.72c-.78.78-.78 2.05 0 2.83L4 21.41c.39.39.9.59 1.41.59.51 0 1.02-.2 1.41-.59l7.78-7.78 2.81-2.81c.8-.78.8-2.07 0-2.86zM5.41 20L4 18.59l7.72-7.72 1.47 1.35L5.41 20z\"/>\n",
              "  </svg>\n",
              "      </button>\n",
              "      \n",
              "  <style>\n",
              "    .colab-df-container {\n",
              "      display:flex;\n",
              "      flex-wrap:wrap;\n",
              "      gap: 12px;\n",
              "    }\n",
              "\n",
              "    .colab-df-convert {\n",
              "      background-color: #E8F0FE;\n",
              "      border: none;\n",
              "      border-radius: 50%;\n",
              "      cursor: pointer;\n",
              "      display: none;\n",
              "      fill: #1967D2;\n",
              "      height: 32px;\n",
              "      padding: 0 0 0 0;\n",
              "      width: 32px;\n",
              "    }\n",
              "\n",
              "    .colab-df-convert:hover {\n",
              "      background-color: #E2EBFA;\n",
              "      box-shadow: 0px 1px 2px rgba(60, 64, 67, 0.3), 0px 1px 3px 1px rgba(60, 64, 67, 0.15);\n",
              "      fill: #174EA6;\n",
              "    }\n",
              "\n",
              "    [theme=dark] .colab-df-convert {\n",
              "      background-color: #3B4455;\n",
              "      fill: #D2E3FC;\n",
              "    }\n",
              "\n",
              "    [theme=dark] .colab-df-convert:hover {\n",
              "      background-color: #434B5C;\n",
              "      box-shadow: 0px 1px 3px 1px rgba(0, 0, 0, 0.15);\n",
              "      filter: drop-shadow(0px 1px 2px rgba(0, 0, 0, 0.3));\n",
              "      fill: #FFFFFF;\n",
              "    }\n",
              "  </style>\n",
              "\n",
              "      <script>\n",
              "        const buttonEl =\n",
              "          document.querySelector('#df-5286feaf-02ab-40b8-88a0-63db6305f063 button.colab-df-convert');\n",
              "        buttonEl.style.display =\n",
              "          google.colab.kernel.accessAllowed ? 'block' : 'none';\n",
              "\n",
              "        async function convertToInteractive(key) {\n",
              "          const element = document.querySelector('#df-5286feaf-02ab-40b8-88a0-63db6305f063');\n",
              "          const dataTable =\n",
              "            await google.colab.kernel.invokeFunction('convertToInteractive',\n",
              "                                                     [key], {});\n",
              "          if (!dataTable) return;\n",
              "\n",
              "          const docLinkHtml = 'Like what you see? Visit the ' +\n",
              "            '<a target=\"_blank\" href=https://colab.research.google.com/notebooks/data_table.ipynb>data table notebook</a>'\n",
              "            + ' to learn more about interactive tables.';\n",
              "          element.innerHTML = '';\n",
              "          dataTable['output_type'] = 'display_data';\n",
              "          await google.colab.output.renderOutput(dataTable, element);\n",
              "          const docLink = document.createElement('div');\n",
              "          docLink.innerHTML = docLinkHtml;\n",
              "          element.appendChild(docLink);\n",
              "        }\n",
              "      </script>\n",
              "    </div>\n",
              "  </div>\n",
              "  "
            ]
          },
          "metadata": {},
          "execution_count": 259
        }
      ]
    },
    {
      "cell_type": "code",
      "source": [
        "Train_x_data_shuffled = shuffled_data[\"Data\"]\n",
        "Train_y_data_shuffled = shuffled_data[\"Label\"]"
      ],
      "metadata": {
        "id": "9mchKAMBVodv"
      },
      "execution_count": null,
      "outputs": []
    },
    {
      "cell_type": "markdown",
      "source": [
        "# test data ---->kitchen"
      ],
      "metadata": {
        "id": "lJdhrBvoYY4G"
      }
    },
    {
      "cell_type": "code",
      "source": [
        "extract_files(\"/content/kitchen_positive.review\",\"/content/kitchen_negative.review\",3)"
      ],
      "metadata": {
        "id": "2DThOBpjFFOn"
      },
      "execution_count": null,
      "outputs": []
    },
    {
      "cell_type": "code",
      "source": [
        "with open('/content/Kitchen_neg.txt','r',encoding='utf-8') as f:\n",
        "    Kitchen_train_negative = f.readlines()"
      ],
      "metadata": {
        "id": "8wzlmzTyFw3C"
      },
      "execution_count": null,
      "outputs": []
    },
    {
      "cell_type": "code",
      "source": [
        "Kitchen_x_train_negative = []\n",
        "\n",
        "for i in range(len(Kitchen_train_negative)):\n",
        "    sent = Kitchen_train_negative[i]\n",
        "    sent = sent[0:len(sent)-1]\n",
        "    Kitchen_x_train_negative.append(preprocess(sent))\n",
        "print(len(Kitchen_x_train_negative))\n",
        "\n",
        "Kitchen_y_train_negative = np.zeros(len(Kitchen_x_train_negative))\n",
        "print(len(Kitchen_y_train_negative))"
      ],
      "metadata": {
        "colab": {
          "base_uri": "https://localhost:8080/"
        },
        "id": "T6sSRppcGBAZ",
        "outputId": "9cd46fba-98ae-4661-c4ed-397f5b9a59a1"
      },
      "execution_count": null,
      "outputs": [
        {
          "output_type": "stream",
          "name": "stdout",
          "text": [
            "1000\n",
            "1000\n"
          ]
        }
      ]
    },
    {
      "cell_type": "code",
      "source": [
        "with open('/content/Kitchen_pos.txt','r',encoding='utf-8') as f:\n",
        "   Kitchen_train_positive = f.readlines()"
      ],
      "metadata": {
        "id": "HreaozIKGOfv"
      },
      "execution_count": null,
      "outputs": []
    },
    {
      "cell_type": "code",
      "source": [
        "Kitchen_x_train_positive = []\n",
        "\n",
        "for i in range(len(Kitchen_train_positive)):\n",
        "    sent = Kitchen_train_positive[i]\n",
        "    sent = sent[0:len(sent)-1]\n",
        "    Kitchen_x_train_positive.append(preprocess(sent))\n",
        "print(len(Kitchen_x_train_positive))\n",
        "\n",
        "Kitchen_y_train_positive = np.ones(len(Kitchen_x_train_positive))\n",
        "print(len(Kitchen_y_train_positive))"
      ],
      "metadata": {
        "colab": {
          "base_uri": "https://localhost:8080/"
        },
        "id": "XB_Grig_GT3-",
        "outputId": "24e97173-7746-4133-821c-3c38177aa57f"
      },
      "execution_count": null,
      "outputs": [
        {
          "output_type": "stream",
          "name": "stdout",
          "text": [
            "1000\n",
            "1000\n"
          ]
        }
      ]
    },
    {
      "cell_type": "code",
      "source": [
        "Kitchen__data = Kitchen_x_train_positive + Kitchen_x_train_negative\n",
        "Kitchen_data_y=   list(Kitchen_y_train_positive) +list(Kitchen_y_train_negative)"
      ],
      "metadata": {
        "id": "-fBEtnTZJA8J"
      },
      "execution_count": null,
      "outputs": []
    },
    {
      "cell_type": "code",
      "source": [
        "\n"
      ],
      "metadata": {
        "id": "h36DvzqtLFkJ"
      },
      "execution_count": null,
      "outputs": []
    },
    {
      "cell_type": "code",
      "source": [
        ""
      ],
      "metadata": {
        "id": "96P20UNIK27g"
      },
      "execution_count": null,
      "outputs": []
    },
    {
      "cell_type": "code",
      "source": [
        "test = pd.DataFrame(list(zip(Kitchen__data, Kitchen_data_y)),\n",
        "               columns =['Data', 'Label'])\n",
        "test"
      ],
      "metadata": {
        "colab": {
          "base_uri": "https://localhost:8080/",
          "height": 424
        },
        "id": "G2Ipv54QTbh9",
        "outputId": "3f696370-d8cd-4aa5-da29-40f7ae9bf8a6"
      },
      "execution_count": null,
      "outputs": [
        {
          "output_type": "execute_result",
          "data": {
            "text/plain": [
              "                                                   Data  Label\n",
              "0      unfamiliar series unfortunate events books de...    1.0\n",
              "1      absolutely love product neighbor four little ...    1.0\n",
              "2      purchased units work well us units children b...    1.0\n",
              "3      always wanted deep fryer finally decided take...    1.0\n",
              "4      easy use easy clean two major requirements ki...    1.0\n",
              "...                                                 ...    ...\n",
              "1995   thermometer lasted month going permanent hi m...    0.0\n",
              "1996   bought first vornado years ago best fan ever ...    0.0\n",
              "1997    money worth makes alot noise small oscillation     0.0\n",
              "1998                mine broke rd use need say anymore     0.0\n",
              "1999   worked great first couple times keep charger ...    0.0\n",
              "\n",
              "[2000 rows x 2 columns]"
            ],
            "text/html": [
              "\n",
              "  <div id=\"df-8c320151-1daf-4711-94df-196dc9a22ea7\">\n",
              "    <div class=\"colab-df-container\">\n",
              "      <div>\n",
              "<style scoped>\n",
              "    .dataframe tbody tr th:only-of-type {\n",
              "        vertical-align: middle;\n",
              "    }\n",
              "\n",
              "    .dataframe tbody tr th {\n",
              "        vertical-align: top;\n",
              "    }\n",
              "\n",
              "    .dataframe thead th {\n",
              "        text-align: right;\n",
              "    }\n",
              "</style>\n",
              "<table border=\"1\" class=\"dataframe\">\n",
              "  <thead>\n",
              "    <tr style=\"text-align: right;\">\n",
              "      <th></th>\n",
              "      <th>Data</th>\n",
              "      <th>Label</th>\n",
              "    </tr>\n",
              "  </thead>\n",
              "  <tbody>\n",
              "    <tr>\n",
              "      <th>0</th>\n",
              "      <td>unfamiliar series unfortunate events books de...</td>\n",
              "      <td>1.0</td>\n",
              "    </tr>\n",
              "    <tr>\n",
              "      <th>1</th>\n",
              "      <td>absolutely love product neighbor four little ...</td>\n",
              "      <td>1.0</td>\n",
              "    </tr>\n",
              "    <tr>\n",
              "      <th>2</th>\n",
              "      <td>purchased units work well us units children b...</td>\n",
              "      <td>1.0</td>\n",
              "    </tr>\n",
              "    <tr>\n",
              "      <th>3</th>\n",
              "      <td>always wanted deep fryer finally decided take...</td>\n",
              "      <td>1.0</td>\n",
              "    </tr>\n",
              "    <tr>\n",
              "      <th>4</th>\n",
              "      <td>easy use easy clean two major requirements ki...</td>\n",
              "      <td>1.0</td>\n",
              "    </tr>\n",
              "    <tr>\n",
              "      <th>...</th>\n",
              "      <td>...</td>\n",
              "      <td>...</td>\n",
              "    </tr>\n",
              "    <tr>\n",
              "      <th>1995</th>\n",
              "      <td>thermometer lasted month going permanent hi m...</td>\n",
              "      <td>0.0</td>\n",
              "    </tr>\n",
              "    <tr>\n",
              "      <th>1996</th>\n",
              "      <td>bought first vornado years ago best fan ever ...</td>\n",
              "      <td>0.0</td>\n",
              "    </tr>\n",
              "    <tr>\n",
              "      <th>1997</th>\n",
              "      <td>money worth makes alot noise small oscillation</td>\n",
              "      <td>0.0</td>\n",
              "    </tr>\n",
              "    <tr>\n",
              "      <th>1998</th>\n",
              "      <td>mine broke rd use need say anymore</td>\n",
              "      <td>0.0</td>\n",
              "    </tr>\n",
              "    <tr>\n",
              "      <th>1999</th>\n",
              "      <td>worked great first couple times keep charger ...</td>\n",
              "      <td>0.0</td>\n",
              "    </tr>\n",
              "  </tbody>\n",
              "</table>\n",
              "<p>2000 rows × 2 columns</p>\n",
              "</div>\n",
              "      <button class=\"colab-df-convert\" onclick=\"convertToInteractive('df-8c320151-1daf-4711-94df-196dc9a22ea7')\"\n",
              "              title=\"Convert this dataframe to an interactive table.\"\n",
              "              style=\"display:none;\">\n",
              "        \n",
              "  <svg xmlns=\"http://www.w3.org/2000/svg\" height=\"24px\"viewBox=\"0 0 24 24\"\n",
              "       width=\"24px\">\n",
              "    <path d=\"M0 0h24v24H0V0z\" fill=\"none\"/>\n",
              "    <path d=\"M18.56 5.44l.94 2.06.94-2.06 2.06-.94-2.06-.94-.94-2.06-.94 2.06-2.06.94zm-11 1L8.5 8.5l.94-2.06 2.06-.94-2.06-.94L8.5 2.5l-.94 2.06-2.06.94zm10 10l.94 2.06.94-2.06 2.06-.94-2.06-.94-.94-2.06-.94 2.06-2.06.94z\"/><path d=\"M17.41 7.96l-1.37-1.37c-.4-.4-.92-.59-1.43-.59-.52 0-1.04.2-1.43.59L10.3 9.45l-7.72 7.72c-.78.78-.78 2.05 0 2.83L4 21.41c.39.39.9.59 1.41.59.51 0 1.02-.2 1.41-.59l7.78-7.78 2.81-2.81c.8-.78.8-2.07 0-2.86zM5.41 20L4 18.59l7.72-7.72 1.47 1.35L5.41 20z\"/>\n",
              "  </svg>\n",
              "      </button>\n",
              "      \n",
              "  <style>\n",
              "    .colab-df-container {\n",
              "      display:flex;\n",
              "      flex-wrap:wrap;\n",
              "      gap: 12px;\n",
              "    }\n",
              "\n",
              "    .colab-df-convert {\n",
              "      background-color: #E8F0FE;\n",
              "      border: none;\n",
              "      border-radius: 50%;\n",
              "      cursor: pointer;\n",
              "      display: none;\n",
              "      fill: #1967D2;\n",
              "      height: 32px;\n",
              "      padding: 0 0 0 0;\n",
              "      width: 32px;\n",
              "    }\n",
              "\n",
              "    .colab-df-convert:hover {\n",
              "      background-color: #E2EBFA;\n",
              "      box-shadow: 0px 1px 2px rgba(60, 64, 67, 0.3), 0px 1px 3px 1px rgba(60, 64, 67, 0.15);\n",
              "      fill: #174EA6;\n",
              "    }\n",
              "\n",
              "    [theme=dark] .colab-df-convert {\n",
              "      background-color: #3B4455;\n",
              "      fill: #D2E3FC;\n",
              "    }\n",
              "\n",
              "    [theme=dark] .colab-df-convert:hover {\n",
              "      background-color: #434B5C;\n",
              "      box-shadow: 0px 1px 3px 1px rgba(0, 0, 0, 0.15);\n",
              "      filter: drop-shadow(0px 1px 2px rgba(0, 0, 0, 0.3));\n",
              "      fill: #FFFFFF;\n",
              "    }\n",
              "  </style>\n",
              "\n",
              "      <script>\n",
              "        const buttonEl =\n",
              "          document.querySelector('#df-8c320151-1daf-4711-94df-196dc9a22ea7 button.colab-df-convert');\n",
              "        buttonEl.style.display =\n",
              "          google.colab.kernel.accessAllowed ? 'block' : 'none';\n",
              "\n",
              "        async function convertToInteractive(key) {\n",
              "          const element = document.querySelector('#df-8c320151-1daf-4711-94df-196dc9a22ea7');\n",
              "          const dataTable =\n",
              "            await google.colab.kernel.invokeFunction('convertToInteractive',\n",
              "                                                     [key], {});\n",
              "          if (!dataTable) return;\n",
              "\n",
              "          const docLinkHtml = 'Like what you see? Visit the ' +\n",
              "            '<a target=\"_blank\" href=https://colab.research.google.com/notebooks/data_table.ipynb>data table notebook</a>'\n",
              "            + ' to learn more about interactive tables.';\n",
              "          element.innerHTML = '';\n",
              "          dataTable['output_type'] = 'display_data';\n",
              "          await google.colab.output.renderOutput(dataTable, element);\n",
              "          const docLink = document.createElement('div');\n",
              "          docLink.innerHTML = docLinkHtml;\n",
              "          element.appendChild(docLink);\n",
              "        }\n",
              "      </script>\n",
              "    </div>\n",
              "  </div>\n",
              "  "
            ]
          },
          "metadata": {},
          "execution_count": 235
        }
      ]
    },
    {
      "cell_type": "code",
      "source": [
        "shuffled_test = test.sample(frac=1)"
      ],
      "metadata": {
        "id": "G539hjBNVDV2"
      },
      "execution_count": null,
      "outputs": []
    },
    {
      "cell_type": "code",
      "source": [
        "Test_x_data_shuffled = shuffled_test[\"Data\"]\n",
        "Test_y_data_shuffled = shuffled_test[\"Label\"]"
      ],
      "metadata": {
        "id": "BaCQBm-JWPW2"
      },
      "execution_count": null,
      "outputs": []
    },
    {
      "cell_type": "code",
      "source": [
        "len(Test_y_data_shuffled)"
      ],
      "metadata": {
        "colab": {
          "base_uri": "https://localhost:8080/"
        },
        "id": "mfUKK_WXJMkA",
        "outputId": "aaeadbed-4a1a-44fc-b774-ec3dc717fcf8"
      },
      "execution_count": null,
      "outputs": [
        {
          "output_type": "execute_result",
          "data": {
            "text/plain": [
              "2000"
            ]
          },
          "metadata": {},
          "execution_count": 238
        }
      ]
    },
    {
      "cell_type": "markdown",
      "source": [
        "# Test using TF-IDF"
      ],
      "metadata": {
        "id": "9ttGbjE0FC0k"
      }
    },
    {
      "cell_type": "code",
      "source": [
        "from sklearn.feature_extraction.text import TfidfVectorizer"
      ],
      "metadata": {
        "id": "_iZjJ-6JGjWO"
      },
      "execution_count": null,
      "outputs": []
    },
    {
      "cell_type": "code",
      "source": [
        "vectorizer = TfidfVectorizer(min_df = 2,max_df=0.8,use_idf=True,sublinear_tf=True,stop_words='english')"
      ],
      "metadata": {
        "id": "r-3R80bEG-0p"
      },
      "execution_count": null,
      "outputs": []
    },
    {
      "cell_type": "code",
      "source": [
        "train_tf_idf = vectorizer.fit_transform(Train_x_data_shuffled)"
      ],
      "metadata": {
        "id": "WCwrmBmvHDGF"
      },
      "execution_count": null,
      "outputs": []
    },
    {
      "cell_type": "code",
      "source": [
        "test_tf_idf = vectorizer.transform(Test_x_data_shuffled)"
      ],
      "metadata": {
        "id": "1LLT_wTgI6rb"
      },
      "execution_count": null,
      "outputs": []
    },
    {
      "cell_type": "code",
      "source": [
        "train_tf_idf.shape"
      ],
      "metadata": {
        "colab": {
          "base_uri": "https://localhost:8080/"
        },
        "id": "sPqfVurfJPx0",
        "outputId": "a094ff20-f48c-43df-edcd-a4fc890f2b2d"
      },
      "execution_count": null,
      "outputs": [
        {
          "output_type": "execute_result",
          "data": {
            "text/plain": [
              "(6000, 18352)"
            ]
          },
          "metadata": {},
          "execution_count": 243
        }
      ]
    },
    {
      "cell_type": "code",
      "source": [
        "vectorizer_chi2 = SelectKBest(chi2,k=5000)"
      ],
      "metadata": {
        "id": "RavYb5T1JTZd"
      },
      "execution_count": null,
      "outputs": []
    },
    {
      "cell_type": "code",
      "source": [
        "chi_train_tf_idf = vectorizer_chi2.fit_transform(train_tf_idf,Train_y_data_shuffled)"
      ],
      "metadata": {
        "id": "XTPEReyoJXy0"
      },
      "execution_count": null,
      "outputs": []
    },
    {
      "cell_type": "code",
      "source": [
        "chi_test_tf_idf = vectorizer_chi2.transform(test_tf_idf)"
      ],
      "metadata": {
        "id": "BlE4gjYWMIgo"
      },
      "execution_count": null,
      "outputs": []
    },
    {
      "cell_type": "code",
      "source": [
        "len(Kitchen_data_y)"
      ],
      "metadata": {
        "colab": {
          "base_uri": "https://localhost:8080/"
        },
        "id": "_MnCSshOXTL6",
        "outputId": "b1ef9cc7-b5d1-4121-97d3-4b54840ec864"
      },
      "execution_count": null,
      "outputs": [
        {
          "output_type": "execute_result",
          "data": {
            "text/plain": [
              "2000"
            ]
          },
          "metadata": {},
          "execution_count": 247
        }
      ]
    },
    {
      "cell_type": "markdown",
      "source": [
        "# Logistic Regression"
      ],
      "metadata": {
        "id": "L2cv9Ytl7Qza"
      }
    },
    {
      "cell_type": "code",
      "source": [
        "Logistic_Regression_classifier = LogisticRegression()\n",
        "Logistic_Regression_classifier.fit(chi_train_tf_idf,Train_y_data_shuffled)\n",
        "Logistic_Regression_pred = Logistic_Regression_classifier.predict(chi_test_tf_idf)\n",
        "Logistic_Regression_acc = float((sum(Logistic_Regression_pred==Test_y_data_shuffled))/len(Test_y_data_shuffled))\n",
        "Logistic_Regression_f1 = f1_score(Logistic_Regression_pred,Test_y_data_shuffled)\n",
        "Logistic_Regression_cm = confusion_matrix(Logistic_Regression_pred,Test_y_data_shuffled)\n",
        "print(\"The accuracy is :\",Logistic_Regression_acc)\n",
        "print(\"\\nThe f1 score is :\",Logistic_Regression_f1)\n",
        "print(\"\\nconfusion matrix is:\")\n",
        "print(Logistic_Regression_cm)"
      ],
      "metadata": {
        "colab": {
          "base_uri": "https://localhost:8080/"
        },
        "id": "1dyFKAPeLkJK",
        "outputId": "a431c453-52ed-487a-a1ad-35b8b97123bc"
      },
      "execution_count": null,
      "outputs": [
        {
          "output_type": "stream",
          "name": "stdout",
          "text": [
            "The accuracy is : 0.818\n",
            "\n",
            "The f1 score is : 0.825\n",
            "\n",
            "confusion matrix is:\n",
            "[[778 142]\n",
            " [222 858]]\n"
          ]
        }
      ]
    },
    {
      "cell_type": "code",
      "source": [
        "plt.figure(figsize = (10,7))\n",
        "sn.heatmap(Logistic_Regression_cm, annot=True, fmt='d',cmap=\"RdPu\")\n",
        "plt.xlabel('Predicted')\n",
        "plt.ylabel('Truth')"
      ],
      "metadata": {
        "colab": {
          "base_uri": "https://localhost:8080/",
          "height": 459
        },
        "id": "7rwPwcfQUaer",
        "outputId": "150627bb-c19e-4bba-dcfb-51dfceb19e1b"
      },
      "execution_count": null,
      "outputs": [
        {
          "output_type": "execute_result",
          "data": {
            "text/plain": [
              "Text(69.0, 0.5, 'Truth')"
            ]
          },
          "metadata": {},
          "execution_count": 260
        },
        {
          "output_type": "display_data",
          "data": {
            "text/plain": [
              "<Figure size 720x504 with 2 Axes>"
            ],
            "image/png": "[encoded data removed]"
          },
          "metadata": {
            "needs_background": "light"
          }
        }
      ]
    },
    {
      "cell_type": "markdown",
      "source": [
        "# Bagging Classifier with Logistic Regression"
      ],
      "metadata": {
        "id": "iMesuZ8I5uy5"
      }
    },
    {
      "cell_type": "code",
      "source": [
        "\n",
        "bg_classifier_Logistic_Regression = BaggingClassifier(base_estimator=Logistic_Regression_classifier,n_estimators=7,random_state=0,max_samples=0.5)\n",
        "bg_classifier_Logistic_Regression.fit(chi_train_tf_idf,Train_y_data_shuffled)\n",
        "bg_predict_Logistic_Regression = bg_classifier_Logistic_Regression.predict(chi_test_tf_idf)\n",
        "bg_accuracy_Logistic_Regression = bg_classifier_Logistic_Regression.score(chi_test_tf_idf,Test_y_data_shuffled)\n",
        "bg_f1 = f1_score(bg_predict_Logistic_Regression,Test_y_data_shuffled)\n",
        "bg_cm_lr = confusion_matrix(Test_y_data_shuffled,bg_predict_Logistic_Regression)\n",
        "print(\"The accuracy is : \",bg_accuracy_Logistic_Regression)\n",
        "print(\"\\nThe f1 score is :\",bg_f1)\n",
        "print(\"\\nThe confusion matrix is:\")\n",
        "print(bg_cm_lr)"
      ],
      "metadata": {
        "colab": {
          "base_uri": "https://localhost:8080/"
        },
        "id": "lygD1IUFdO3n",
        "outputId": "a52f2138-e440-43d6-c236-d0d2f514f796"
      },
      "execution_count": null,
      "outputs": [
        {
          "output_type": "stream",
          "name": "stdout",
          "text": [
            "The accuracy is :  0.8115\n",
            "\n",
            "The f1 score is : 0.8184882041405874\n",
            "\n",
            "The confusion matrix is:\n",
            "[[773 227]\n",
            " [150 850]]\n"
          ]
        }
      ]
    },
    {
      "cell_type": "code",
      "source": [
        "plt.figure(figsize = (10,7))\n",
        "sn.heatmap(bg_cm_lr, annot=True, fmt='d')\n",
        "plt.xlabel('Predicted')\n",
        "plt.ylabel('Truth')"
      ],
      "metadata": {
        "colab": {
          "base_uri": "https://localhost:8080/",
          "height": 459
        },
        "id": "r8KTXZZ5TlVh",
        "outputId": "380414d0-3e55-4bee-82d5-34c30918f7da"
      },
      "execution_count": null,
      "outputs": [
        {
          "output_type": "execute_result",
          "data": {
            "text/plain": [
              "Text(69.0, 0.5, 'Truth')"
            ]
          },
          "metadata": {},
          "execution_count": 251
        },
        {
          "output_type": "display_data",
          "data": {
            "text/plain": [
              "<Figure size 720x504 with 2 Axes>"
            ],
            "image/png": "[encoded data removed]"
          },
          "metadata": {
            "needs_background": "light"
          }
        }
      ]
    },
    {
      "cell_type": "markdown",
      "source": [
        "## **F score is the highest with Bagging Classifier with Logistic Regression**"
      ],
      "metadata": {
        "id": "NHDmjJ1nRmjS"
      }
    },
    {
      "cell_type": "markdown",
      "source": [
        "# SVM"
      ],
      "metadata": {
        "id": "z2jJ0cG39QDv"
      }
    },
    {
      "cell_type": "code",
      "source": [
        "rbf_classifier = svm.SVC(gamma=0.9)\n",
        "rbf_classifier.fit(chi_train_tf_idf,Train_y_data_shuffled)\n",
        "rbf_pred = rbf_classifier.predict(chi_test_tf_idf)\n",
        "rbf_accuracy = rbf_classifier.score(chi_test_tf_idf,Test_y_data_shuffled)\n",
        "rbf_cm = confusion_matrix(rbf_pred,Test_y_data_shuffled)\n",
        "rbf_f1 = f1_score(rbf_pred,Test_y_data_shuffled)\n"
      ],
      "metadata": {
        "id": "GMM8Rx3tfala"
      },
      "execution_count": null,
      "outputs": []
    },
    {
      "cell_type": "code",
      "source": [
        "colors = sns.diverging_palette(150, 275, as_cmap=True)"
      ],
      "metadata": {
        "id": "3UPFETCwTMqd"
      },
      "execution_count": null,
      "outputs": []
    },
    {
      "cell_type": "code",
      "source": [
        "print(\"The SVM (rbf) Accuracy is: \",rbf_accuracy)\n",
        "print(\"The F1 score is: \",rbf_f1)\n",
        "print(\"The confusion matrix is:\")\n",
        "print(rbf_cm)\n",
        "plt.figure(figsize = (10,7))\n",
        "sn.heatmap(rbf_cm, annot=True, fmt='d', cmap=colors)\n",
        "plt.xlabel('Predicted')\n",
        "plt.ylabel('Truth')"
      ],
      "metadata": {
        "colab": {
          "base_uri": "https://localhost:8080/",
          "height": 546
        },
        "id": "g-TM5Sa0S3CD",
        "outputId": "c7349d2c-98e0-45b5-9349-eb569b9652db"
      },
      "execution_count": null,
      "outputs": [
        {
          "output_type": "stream",
          "name": "stdout",
          "text": [
            "The SVM (rbf) Accuracy is:  0.8065\n",
            "The F1 score is:  0.814031715521384\n",
            "The confusion matrix is:\n",
            "[[766 153]\n",
            " [234 847]]\n"
          ]
        },
        {
          "output_type": "execute_result",
          "data": {
            "text/plain": [
              "Text(69.0, 0.5, 'Truth')"
            ]
          },
          "metadata": {},
          "execution_count": 263
        },
        {
          "output_type": "display_data",
          "data": {
            "text/plain": [
              "<Figure size 720x504 with 2 Axes>"
            ],
            "image/png": "[encoded data removed]"
          },
          "metadata": {
            "needs_background": "light"
          }
        }
      ]
    },
    {
      "cell_type": "markdown",
      "source": [
        "# Bagging Classifier SVM with RBF Kernel"
      ],
      "metadata": {
        "id": "k1_R98tQ7Uq8"
      }
    },
    {
      "cell_type": "code",
      "source": [
        "\n",
        "bg_classifier_rbf = BaggingClassifier(base_estimator=rbf_classifier,n_estimators=8,random_state=0,max_samples=0.8)\n",
        "bg_classifier_rbf.fit(chi_train_tf_idf,Train_y_data_shuffled)\n",
        "bg_predict_rbf = bg_classifier_rbf.predict(chi_test_tf_idf)\n",
        "bg_accuracy_rbf = bg_classifier_rbf.score(chi_test_tf_idf,Test_y_data_shuffled)\n",
        "bg_cm_rbf = confusion_matrix(Test_y_data_shuffled,bg_predict_rbf)\n",
        "bg_f1_rbf = f1_score(Test_y_data_shuffled,bg_predict_rbf)\n",
        "print(\"The accuracy is : \",bg_accuracy_rbf)\n",
        "print(\"\\nThe F1 score is: \",bg_f1_rbf)\n",
        "print(\"\\nThe confusion matrix is:\")\n",
        "\n",
        "print(bg_cm_rbf)"
      ],
      "metadata": {
        "colab": {
          "base_uri": "https://localhost:8080/"
        },
        "id": "ddD9crX_eIpj",
        "outputId": "702b058b-c822-4ead-ea9d-a367a4858ac8"
      },
      "execution_count": null,
      "outputs": [
        {
          "output_type": "stream",
          "name": "stdout",
          "text": [
            "The accuracy is :  0.8135\n",
            "\n",
            "The F1 score is:  0.8172464478196961\n",
            "\n",
            "The confusion matrix is:\n",
            "[[793 207]\n",
            " [166 834]]\n"
          ]
        }
      ]
    },
    {
      "cell_type": "code",
      "source": [
        "\n",
        "plt.figure(figsize = (10,7))\n",
        "sn.heatmap(bg_cm_rbf, annot=True, fmt='d')\n",
        "plt.xlabel('Predicted')\n",
        "plt.ylabel('Truth')"
      ],
      "metadata": {
        "colab": {
          "base_uri": "https://localhost:8080/",
          "height": 459
        },
        "id": "_H85qAz_Sfzn",
        "outputId": "7d400fb2-e792-466b-d362-7a61bdee44d2"
      },
      "execution_count": null,
      "outputs": [
        {
          "output_type": "execute_result",
          "data": {
            "text/plain": [
              "Text(69.0, 0.5, 'Truth')"
            ]
          },
          "metadata": {},
          "execution_count": 256
        },
        {
          "output_type": "display_data",
          "data": {
            "text/plain": [
              "<Figure size 720x504 with 2 Axes>"
            ],
            "image/png": "[encoded data removed]"
          },
          "metadata": {
            "needs_background": "light"
          }
        }
      ]
    },
    {
      "cell_type": "code",
      "source": [
        ""
      ],
      "metadata": {
        "id": "dBUwpls0gFof"
      },
      "execution_count": null,
      "outputs": []
    }
  ]
}